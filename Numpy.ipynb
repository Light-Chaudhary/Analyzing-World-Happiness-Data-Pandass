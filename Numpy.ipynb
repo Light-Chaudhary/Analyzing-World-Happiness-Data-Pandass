{
 "cells": [
  {
   "cell_type": "code",
   "execution_count": 5,
   "id": "b8e44dfc-d81c-47f2-bf2d-6dda72cb26e7",
   "metadata": {},
   "outputs": [
    {
     "name": "stdout",
     "output_type": "stream",
     "text": [
      "[ 10  11  12  13  14  15  16  17  18  19  20  21  22  23  24  25  26  27\n",
      "  28  29  30  31  32  33  34  35  36  37  38  39  40  41  42  43  44  45\n",
      "  46  47  48  49  50  51  52  53  54  55  56  57  58  59  60  61  62  63\n",
      "  64  65  66  67  68  69  70  71  72  73  74  75  76  77  78  79  80  81\n",
      "  82  83  84  85  86  87  88  89  90  91  92  93  94  95  96  97  98  99\n",
      " 100]\n"
     ]
    },
    {
     "data": {
      "text/plain": [
       "(91,)"
      ]
     },
     "execution_count": 5,
     "metadata": {},
     "output_type": "execute_result"
    }
   ],
   "source": [
    "# Create a NumPy array with values from 10 to 100 and print its shape.\n",
    "\n",
    "import numpy as np\n",
    "import time\n",
    "\n",
    "arr = np.arange(10,101)\n",
    "print (arr)\n",
    "arr.shape"
   ]
  },
  {
   "cell_type": "code",
   "execution_count": 22,
   "id": "9ceffd1f-e9ff-4f17-99f0-6a8b67473f8f",
   "metadata": {},
   "outputs": [
    {
     "name": "stdout",
     "output_type": "stream",
     "text": [
      "9.202957153320312e-05\n"
     ]
    },
    {
     "data": {
      "text/plain": [
       "[1, 4, 9]"
      ]
     },
     "execution_count": 22,
     "metadata": {},
     "output_type": "execute_result"
    }
   ],
   "source": [
    "# Compare the time taken to multiply two Python lists vs. two NumPy arrays. \n",
    "import time\n",
    "list1 = [1,2,3]\n",
    "list2 = [1,2,3]\n",
    "start = time.time()\n",
    "list3 = [x*y for x, y in zip(list1, list2)]\n",
    "end = time.time()\n",
    "\n",
    "print(end - start)\n",
    "list3"
   ]
  },
  {
   "cell_type": "code",
   "execution_count": 23,
   "id": "8bd71982-6dbe-4452-b181-d56dcbaf4b92",
   "metadata": {},
   "outputs": [
    {
     "name": "stdout",
     "output_type": "stream",
     "text": [
      "0.00011682510375976562\n"
     ]
    },
    {
     "data": {
      "text/plain": [
       "array([1, 4, 9])"
      ]
     },
     "execution_count": 23,
     "metadata": {},
     "output_type": "execute_result"
    }
   ],
   "source": [
    "arr1 = np.array(list1)\n",
    "arr2 = np.array(list2)\n",
    "start = time.time()\n",
    "arr3 = arr1 * arr2\n",
    "end = time.time()\n",
    "\n",
    "print(end-start)\n",
    "arr3"
   ]
  },
  {
   "cell_type": "code",
   "execution_count": 27,
   "id": "9f1a271d-28c5-4638-80f1-42209a4cdf67",
   "metadata": {},
   "outputs": [
    {
     "name": "stdout",
     "output_type": "stream",
     "text": [
      "104\n"
     ]
    }
   ],
   "source": [
    "import sys\n",
    "arr = np.array(1_000_000)\n",
    "print(sys.getsizeof(arr))"
   ]
  },
  {
   "cell_type": "code",
   "execution_count": null,
   "id": "efab5704-8f9c-4a8d-898d-2b48c049ed8e",
   "metadata": {},
   "outputs": [],
   "source": []
  }
 ],
 "metadata": {
  "kernelspec": {
   "display_name": "Python 3 (ipykernel)",
   "language": "python",
   "name": "python3"
  },
  "language_info": {
   "codemirror_mode": {
    "name": "ipython",
    "version": 3
   },
   "file_extension": ".py",
   "mimetype": "text/x-python",
   "name": "python",
   "nbconvert_exporter": "python",
   "pygments_lexer": "ipython3",
   "version": "3.13.5"
  }
 },
 "nbformat": 4,
 "nbformat_minor": 5
}
